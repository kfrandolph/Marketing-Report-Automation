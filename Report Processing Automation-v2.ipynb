{
 "cells": [
  {
   "cell_type": "code",
   "execution_count": 1,
   "metadata": {},
   "outputs": [],
   "source": [
    "import pandas as pd\n",
    "import os\n",
    "import datetime\n",
    "import re\n",
    "import json\n",
    "import pymysql\n",
    "from sqlalchemy import create_engine"
   ]
  },
  {
   "cell_type": "code",
   "execution_count": 2,
   "metadata": {},
   "outputs": [],
   "source": [
    "## DATE GLOBAL VARS FOR FILENAMES\n",
    "NOW = datetime.datetime.now()\n",
    "TODAY = NOW.strftime(\"%Y.%m.%d\")\n",
    "\n",
    "## LOAD COLUMN MAPPING\n",
    "with open('column_mapping.json', 'r') as f:\n",
    "        COLMAP = json.load(f)"
   ]
  },
  {
   "cell_type": "code",
   "execution_count": 3,
   "metadata": {},
   "outputs": [],
   "source": [
    "## LOAD DB CREDS AND OPEN CONNECTION\n",
    "with open('db_creds.json', 'r') as f:\n",
    "        db_creds = json.load(f)\n",
    "\n",
    "usr = db_creds['username']\n",
    "pwd = db_creds['password']\n",
    "port = db_creds['port']\n",
    "db = db_creds['database']\n",
    "host = db_creds['host']\n",
    "\n",
    "engine = create_engine('mysql+pymysql://{}:{}@{}:{}/{}?charset=utf8'.format(usr,pwd,host,port,db))"
   ]
  },
  {
   "cell_type": "code",
   "execution_count": 8,
   "metadata": {},
   "outputs": [],
   "source": [
    "transaction =  '''\n",
    "               START TRANSACTION;\n",
    "\n",
    "                # CREATIVE META TEMP TABLE\n",
    "                INSERT INTO creative_meta (id,creative_name,creative_type,creative_length)\n",
    "                SELECT  id,\n",
    "                        creative_name,\n",
    "                        creative_type,\n",
    "                        creative_length\n",
    "                FROM    TEMP_creative as tmp\n",
    "                ON      DUPLICATE KEY \n",
    "                UPDATE  creative_type = tmp.creative_type,\n",
    "                        creative_length = tmp.creative_length;\n",
    "\n",
    "                # PLACEMENTS TABLE\n",
    "                INSERT INTO placements (campaign_id,id,placement_name,placement_start_date,placement_end_date,ad_type,package,package_id,site_dcm,booked_impressions)\n",
    "                SELECT  campaign_id,id,placement_name,placement_start_date,placement_end_date,ad_type,package,package_id,site_dcm,booked_impressions\n",
    "                FROM    TEMP_placement as tmp\n",
    "                ON      DUPLICATE KEY \n",
    "                UPDATE  placement_start_date = tmp.placement_start_date,\n",
    "                        placement_end_date = tmp.placement_end_date,\n",
    "                        booked_impressions = tmp.booked_impressions,\n",
    "                        package = tmp.package_id,\n",
    "                        package_id = tmp.package_id,\n",
    "                        booked_impressions = tmp.booked_impressions;\n",
    "\n",
    "                # DCM TABLE\n",
    "                INSERT INTO dcm (client_id,campaign_id,placement_id,creative_id,date_recorded,impressions,clicks,click_rate,total_conv,audio_comp,vid_prog,video_skip,video_plays,q1_completes,q2_completes,q3_completes,vid_completes,vid_view_rate,vid_views,video_avg_view_time\n",
    "                )\n",
    "                SELECT  client_id,\n",
    "                        campaign_id,\n",
    "                        placement_id,\n",
    "                        creative_id,\n",
    "                        date_recorded,\n",
    "                        impressions,\n",
    "                        clicks,\n",
    "                        click_rate,\n",
    "                        total_conv,\n",
    "                        audio_comp,\n",
    "                        vid_prog,\n",
    "                        video_skip,\n",
    "                        video_plays,\n",
    "                        q1_completes,\n",
    "                        q2_completes,\n",
    "                        q3_completes,\n",
    "                        vid_completes,\n",
    "                        vid_view_rate,\n",
    "                        vid_views,\n",
    "                        video_avg_view_time\n",
    "                FROM    TEMP_dcm as tmp\n",
    "                ON      DUPLICATE KEY \n",
    "                UPDATE   \n",
    "                        package_id = tmp.package_id,\n",
    "                        impressions = tmp.impressions ;\n",
    "\n",
    "                DROP TABLE TEMP_placement,TEMP_creative\n",
    "\n",
    "                COMMIT;\n",
    "                '''"
   ]
  },
  {
   "cell_type": "code",
   "execution_count": 9,
   "metadata": {},
   "outputs": [],
   "source": [
    "def process_exports(d):\n",
    "    log = []\n",
    "    for export_type,export_path in d.items():\n",
    "        print(\"Processing: {}\".format(export_path))\n",
    "        try:\n",
    "            if export_type in ['dcm','creative','placement']:\n",
    "                df = pd.read_csv(export_path,skiprows=12,skipfooter=1,engine='python')            \n",
    "\n",
    "            elif export_type == 'double_verify':\n",
    "                df = pd.read_csv(export_path)\n",
    "                df['Date'] = pd.to_datetime(df['Date'])\n",
    "                df.drop(labels=['Media Property', 'Placement Name'],axis=1,inplace=True)\n",
    "\n",
    "            elif export_type == 'moat':\n",
    "                df = pd.read_csv(export_path)      \n",
    "        \n",
    "            df.rename(columns=COLMAP[export_type],inplace=1)\n",
    "            if df.shape[1] < 3:\n",
    "                break\n",
    "            df.to_csv('{}.csv'.format(export_type),index=False)\n",
    "\n",
    "            df.to_sql('TEMP_{}'.format(export_type),con=engine,index=False,if_exists='fail')\n",
    "\n",
    "        except Exception as e:\n",
    "            print(e)\n",
    "            log.append('Error for {} @ path: {}'.format(export_type,export_path))        \n",
    "    return(log)"
   ]
  },
  {
   "cell_type": "code",
   "execution_count": 7,
   "metadata": {},
   "outputs": [],
   "source": [
    "def main():\n",
    "    os.chdir(os.path.expanduser('~/Downloads/exports'))\n",
    "    d = {}\n",
    "    for x in os.listdir():\n",
    "        if bool(re.match(r\"9003_DCM_Refresh_General\",x)):\n",
    "            d['dcm'] = x\n",
    "        elif bool(re.match(r\"9003_Creative_Meta_Refresh_General\",x)):\n",
    "            d['creative'] = x\n",
    "        elif bool(re.match(r\"9003_Placement_Overview_General\",x)):\n",
    "            d['placement'] = x\n",
    "        elif bool(re.match(r\"Moat Export\",x)):\n",
    "            d['moat'] = x\n",
    "        elif bool(re.match(r\"All Media Placement Daily Overview\",x)):\n",
    "            d['double_verify'] = x\n",
    "        else:\n",
    "            pass\n",
    "\n",
    "    status = process_exports(d)\n",
    "    #engine.excecute(transaction)\n",
    "    print(status)"
   ]
  },
  {
   "cell_type": "code",
   "execution_count": 8,
   "metadata": {},
   "outputs": [
    {
     "name": "stdout",
     "output_type": "stream",
     "text": [
      "Processing: 9003_Creative_Meta_Refresh_General_20180313_134811_695028141.csv\n",
      "Processing: 9003_DCM_Refresh_General_20180314_095218_695500731.csv\n",
      "Processing: 9003_Placement_Overview_General_20180313_134330_695014666.csv\n",
      "['Success for creative @ path: 9003_Creative_Meta_Refresh_General_20180313_134811_695028141.csv', 'Success for dcm @ path: 9003_DCM_Refresh_General_20180314_095218_695500731.csv', 'Success for placement @ path: 9003_Placement_Overview_General_20180313_134330_695014666.csv']\n"
     ]
    }
   ],
   "source": [
    "main()"
   ]
  },
  {
   "cell_type": "markdown",
   "metadata": {},
   "source": [
    "## TO DO\n",
    "- ~~write generalized processing function~~\n",
    "- ~~JSON Dump/Load~~\n",
    "- ~~SQL Connector~~\n",
    "- Excecute cross table updates\n",
    "    - DCM Tables\n",
    "    - Moat tables\n",
    "    - DV Tables\n",
    "- Delete Temp Tables\n"
   ]
  },
  {
   "cell_type": "code",
   "execution_count": 9,
   "metadata": {},
   "outputs": [],
   "source": [
    "result = engine.execute(\"select * from dcm LIMIT 2\")"
   ]
  },
  {
   "cell_type": "code",
   "execution_count": 10,
   "metadata": {},
   "outputs": [
    {
     "name": "stdout",
     "output_type": "stream",
     "text": [
      "(4491231, 20685898, 213866168, 97636501, datetime.date(2018, 2, 9), 1, 1, 100.0, 3, 0, 0, 0, 1, 1, 0, 0, 0, 0.0, 0, 0.0)\n",
      "(4491231, 20685898, 213866168, 97692297, datetime.date(2018, 2, 9), 1, 1, 100.0, 3, 0, 0, 0, 1, 1, 1, 1, 1, 0.0, 0, 0.0)\n"
     ]
    }
   ],
   "source": [
    "for x in result:\n",
    "    print(x)"
   ]
  },
  {
   "cell_type": "code",
   "execution_count": null,
   "metadata": {},
   "outputs": [],
   "source": []
  }
 ],
 "metadata": {
  "kernelspec": {
   "display_name": "Python 3",
   "language": "python",
   "name": "python3"
  },
  "language_info": {
   "codemirror_mode": {
    "name": "ipython",
    "version": 3
   },
   "file_extension": ".py",
   "mimetype": "text/x-python",
   "name": "python",
   "nbconvert_exporter": "python",
   "pygments_lexer": "ipython3",
   "version": "3.6.3"
  }
 },
 "nbformat": 4,
 "nbformat_minor": 2
}
